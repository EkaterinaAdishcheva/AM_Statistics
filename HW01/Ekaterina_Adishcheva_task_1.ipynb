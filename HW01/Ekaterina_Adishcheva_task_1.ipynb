{
 "cells": [
  {
   "attachments": {},
   "cell_type": "markdown",
   "metadata": {},
   "source": [
    "# Task 1\n",
    "$$\n",
    "p(x, \\theta) = \\frac{1}{2\\sigma} e^{-\\frac{|x-\\mu|}{\\sigma}}\n",
    "$$"
   ]
  },
  {
   "attachments": {},
   "cell_type": "markdown",
   "metadata": {},
   "source": [
    "### Maximum likelihood\n",
    "$$\n",
    "L(X, \\theta) = p(x=\\{X_1, X_2, \\ldots, X_n\\} , \\theta) = \\prod_{i=1}^{n} p(x=X_i, \\theta) = \\left(\\frac{1}{2\\sigma}\\right)^n \\prod_{i=1}^{n} e^{-\\frac{|X_i-\\mu|}{\\sigma}}\n",
    "$$\n",
    "$$\n",
    "l(X, \\theta) = \\log(L(X, \\theta)) = -n \\log(2\\sigma) - \\frac{1}{\\sigma}\\sum_{i=1}^{n} |X_i-\\mu|\n",
    "$$\n",
    "$$\n",
    "\\frac{\\partial l(X, \\theta)}{\\partial \\mu} = - \\frac{1}{\\sigma}\\sum_{i=1}^{n} \\mathrm{sign}(X_i-\\mu) = 0, \\ \\ \\ \\frac{\\partial l(X, \\theta)}{\\partial \\sigma} = - \\frac{n}{\\sigma} + \\frac{1}{\\sigma^2}  \\sum_{i=1}^{n} |X_i-\\mu| = 0,\n",
    "$$\n",
    "$$\n",
    "\\mu = \\mathrm{med\\left(\\{X_1, X_2, \\ldots, X_n\\}\\right)},\n",
    " \\ \\ \\ \\sigma = \\frac{\\sum_{i=1}^{n} |X_i-\\mathrm{med\\left(\\{X_1, X_2, \\ldots, X_n\\}\\right)}|}{n}\n",
    "$$\n",
    "Median: equals to middle elemne for odd $n$, and equal to any number beween two middle elements for even $n$."
   ]
  },
  {
   "attachments": {},
   "cell_type": "markdown",
   "metadata": {},
   "source": [
    "### Method of moments\n",
    "$$\n",
    "\\mathrm{E}(X) = \\int_{-\\infty}^{-\\infty} x \\frac{1}{2\\sigma} e^{-\\frac{|x-\\mu|}{\\sigma}} dx  = \\frac{1}{\\sigma} \\int_{\\mu}^{\\infty} x e^{-\\frac{x-\\mu}{\\sigma}} dx  = \\mu.\n",
    "$$\n",
    "$$\n",
    "\\mathrm{E}(X^2) = \\int x^2 \\frac{1}{2\\sigma} e^{-\\frac{|x-\\mu|}{\\sigma}} dx = 2\\sigma^2 + \\mu^2\n",
    "$$\n",
    "$$\n",
    "\\mu = \\frac{1}{n} \\sum_{i=1}^n X_i, \\ \\ \\ \\sigma = \\sqrt{\\frac{1}{2}\\left(\\frac{\\sum_{i=1}^n X_i^2}{n} - \\frac{\\left(\\sum_{i=1}^n X_i\\right)^2}{n^2} \\right)}\n",
    "$$"
   ]
  },
  {
   "attachments": {},
   "cell_type": "markdown",
   "metadata": {},
   "source": [
    "# Task 2"
   ]
  },
  {
   "attachments": {},
   "cell_type": "markdown",
   "metadata": {},
   "source": [
    "$$F(x) = 1 - e^{\\theta x}, \\ \\ \\ p(x) = \\theta e^{\\theta x} = \\frac{1}{\\Gamma(1)}\\Gamma(1) \\theta e^{\\theta x}$$"
   ]
  },
  {
   "attachments": {},
   "cell_type": "markdown",
   "metadata": {},
   "source": [
    "$$\\hat{\\theta}_C = \\frac{C(n)}{x_1 + x_2 + \\cdots + x_n}$$"
   ]
  },
  {
   "attachments": {},
   "cell_type": "markdown",
   "metadata": {},
   "source": [
    "Оценка несмещенноая, значит $\\mathrm{E}\\left(\\hat{\\theta}_C\\right) = \\theta$"
   ]
  },
  {
   "cell_type": "markdown",
   "metadata": {},
   "source": [
    "\n",
    "$$\\theta = \\mathrm{E}\\left(\\hat{\\theta}_C\\right) = \\int_{-\\infty}^{\\infty}\\int_{-\\infty}^{\\infty}\\ldots\\int_{-\\infty}^{\\infty}\\frac{C(n)}{x_1 + x_2 + \\cdots + x_n}\\theta^n e^{\\theta \\left(x_1 + x_2 + \\cdots + x_n\\right)}dx_1 dx_2 \\cdots dx_n = $$"
   ]
  },
  {
   "attachments": {},
   "cell_type": "markdown",
   "metadata": {},
   "source": [
    "$$= \\int_{-\\infty}^{\\infty} \\frac{C(n)}{y} \\frac{\\theta^n}{\\Gamma(n)}y^{n-1}e^{-\\theta y} dy = \\frac{C(n)}{\\Gamma(n)} \\theta^n \\int_{-\\infty}^{\\infty} y^{n-2}e^{-\\theta y} dy = $$\n",
    "$$= \\frac{C(n)}{\\Gamma(n)}\\Gamma(n-1) \\theta \\int_{-\\infty}^{\\infty} \\frac{\\theta^{n-1}}{\\Gamma(n-1)} y^{n-2}e^{-\\theta y} dy = \\frac{C(n)}{\\Gamma(n)}\\Gamma(n-1) \\theta = \\frac{C(n)}{n-1} \\theta$$\n",
    "$$C(n) = n-1$$"
   ]
  },
  {
   "attachments": {},
   "cell_type": "markdown",
   "metadata": {},
   "source": [
    "Оценка состоятельная, если оценка асимптотически несмещенная и её дисперсия стремится к нулю.\n",
    "\n",
    "Оценка является асимптотически несмещенной при $C(n) = n + o(n).$\n",
    "\n",
    "$$\\mathrm{D}\\hat{\\theta} = \\mathrm{E}\\hat{\\theta}^2 - \\left(\\mathrm{E}\\hat{\\theta}\\right)^2 = \\left(C\\left(n\\right)\\right)^2 \\left(\\mathrm{E}y^2 - \\mathrm{E}\\left(y\\right)^2\\right) = C^2(n) \\left( \n",
    "\\int_{-\\infty}^{\\infty} \\frac{1}{y^2} \\frac{\\theta^n}{\\Gamma(n)}y^{n-1}e^{-\\theta y} dy - \\left(\\frac{\\theta}{n-1}\\right)^2\n",
    "\\right) = \\left(C\\left(n\\right)\\right)^2 \\theta^2 \\left( \n",
    "\\int_{-\\infty}^{\\infty} \\frac{1}{y^2} \\frac{\\theta^{n-2}}{\\Gamma(n)}y^{n-1}e^{-\\theta y} dy - \\left(\\frac{1}{n-1}\\right)^2\n",
    "\\right) =\n",
    "$$\n",
    "$$ = \\left(C\\left(n\\right)\\right)^2 \\theta^2 \\left( \n",
    "\\frac{\\Gamma(n-2)}{\\Gamma(n)} - \\left(\\frac{1}{n-1}\\right)^2\n",
    "\\right) = \\left(C\\left(n\\right)\\right)^2 \\theta^2 \\left( \n",
    "\\frac{1}{(n-1)(n-2)} - \\left(\\frac{1}{n-1}\\right)^2\n",
    "\\right) = \\left(C\\left(n\\right)\\right)^2 \\theta^2 \\frac{1}{(n-1)^2(n-2)} = \\theta^2 \\frac{n^2 + o(n^2)}{(n-1)^2(n-2)} \\rightarrow \\ 0 \\ \\ \\ \\text{при} \\ n \\rightarrow \\ \\infty \n",
    "$$\n",
    "\n",
    "Оценка состоятельная, если  $C(n) = n + o(n).$"
   ]
  },
  {
   "attachments": {},
   "cell_type": "markdown",
   "metadata": {},
   "source": [
    "# Task 3"
   ]
  },
  {
   "attachments": {},
   "cell_type": "markdown",
   "metadata": {},
   "source": [
    "$$X = \\left\\{\\underbrace{0, \\cdots, 0}_{m},\\underbrace{1, \\cdots, 1}_{m+1}\\right\\}$$\n",
    "$$\\textrm{E}\\left(X\\right) = \\frac{m+1}{2m+1}, \\ \\ \\ \\textrm{Med}\\left(X\\right) = 1$$\n",
    "$$\\sigma\\left(X\\right) = \\left(\\frac{1}{2m+1}\\sum_{1}^{2m+1}\\left( x_i - \\frac{m+1}{2m+1} \\right) ^2\\right)^{1/2} = \\left(\\frac{1}{2m+1} m\\left(\\frac{m+1}{2m+1} \\right) ^2 + \\frac{1}{2m+1} (m+1) \\left( 1 - \\frac{m+1}{2m+1} \\right) ^2\\right)^{1/2} = $$\n",
    "$$\\left(\\frac{m}{2m+1}\\left(\\frac{m+1}{2m+1} \\right) ^2 + \\frac{m+1}{2m+1} \\left(\\frac{m}{2m+1} \\right) ^2\\right)^{1/2} = \\left( \\frac{m(m+1)(2m+1)}{(2m + 1)^3} \\right)^{1/2} =\n",
    "\\frac{\\sqrt{m(m+1)}}{2m+1}$$"
   ]
  },
  {
   "attachments": {},
   "cell_type": "markdown",
   "metadata": {},
   "source": [
    "$$\\textrm{Med}\\left(X\\right) - \\textrm{E}\\left(X\\right) = 1 - \\frac{m+1}{2m+1} = \\frac{m}{2m+1} \\le C \\frac{\\sqrt{m(m+1)}}{2m+1}$$\n",
    "$\\frac{m}{m+1} \\ \\rightarrow \\ 1, \\ \\ \\ \\Rightarrow \\ \\ C = 1$\n",
    "\n",
    "Не существует $C < 1$, такого, что $\\sqrt{m} < C\\sqrt{m+1}$ выполнено для любого $m$."
   ]
  },
  {
   "attachments": {},
   "cell_type": "markdown",
   "metadata": {},
   "source": [
    "# Task 4"
   ]
  },
  {
   "attachments": {},
   "cell_type": "markdown",
   "metadata": {},
   "source": [
    "$$P_{\\theta} = \\Bigl\\{ Law(\\xi^2),\\ \\  \\xi \\sim \\Nu(0, \\theta)\\Bigr\\}$$"
   ]
  },
  {
   "attachments": {},
   "cell_type": "markdown",
   "metadata": {},
   "source": [
    "$$F(\\xi^2 < x) = \\begin{cases}0, \\ \\ x < 0 \\\\ F(\\xi < \\sqrt(x)) - F(\\xi < -\\sqrt(x)), \\ \\ x \\ge 0  \\end{cases}$$\n",
    "$$f_{\\xi^2}(x) = \\frac{d F(\\xi^2 < x)}{dx} = \\frac{d F(\\xi < \\sqrt{x})}{dx} - \\frac{d F(\\xi < -\\sqrt{x})}{dx} = f_{\\xi}(\\sqrt{x})(\\sqrt{x})' + f_{\\xi}(-\\sqrt{x})(\\sqrt{x})' = \\frac{f_{\\xi}(\\sqrt{x})}{\\sqrt{x}}$$\n",
    "\n",
    "$$\\frac{f_{\\xi}(\\sqrt{x})}{\\sqrt{x}} = \\frac{1}{\\sqrt{2 \\pi \\theta x}}e^{-\\frac{x}{2\\theta}}$$\n",
    "\n",
    "Распределение с плотностью вида $\\frac{1}{h(\\theta)}g(x)\\mathrm{exp}(\\tilde{\\theta}^T u(x))$ является экспоненциальным, у нас:\n",
    "$$h(\\theta) = \\sqrt{2 \\pi \\theta}, \\ g(x) = \\frac{1}{\\sqrt{x}}, \\ \\tilde{\\theta} = \\frac{1}{2\\theta}, \\ u(x) = x,$$\n",
    "то есть распределение является экспоненциальным.\n",
    "\n",
    "$$f_{\\xi^2}(x) = \\frac{1}{\\sqrt{2 \\pi \\theta x}}e^{-\\frac{x}{2\\theta}} =\n",
    "\\frac{1}{\\sqrt{x}} e^{-\\frac{x}{2\\theta} -\\mathrm{ln}(\\sqrt{2 \\pi \\theta})} = \\frac{1}{\\sqrt{x}} e^{xv -\\mathrm{ln}(-\\sqrt{\\frac{\\pi}{v}})} = g(x) e^{x v - A(v)}, \\text{где}\\ \\ v=-\\frac{1}{2\\theta}.$$\n"
   ]
  },
  {
   "attachments": {},
   "cell_type": "markdown",
   "metadata": {},
   "source": [
    "$$\\mathrm{E}(\\xi^2) = A'(v) = -\\frac{1}{2v} = \\theta$$\n",
    "$$\\mathrm{D}(\\xi^2) = A''(v) = -\\frac{1}{2v^2} = 2\\theta^2$$"
   ]
  },
  {
   "attachments": {},
   "cell_type": "markdown",
   "metadata": {},
   "source": [
    "Оценка $\\theta$ методом максимального правдоподобия и моментов совпадают."
   ]
  },
  {
   "attachments": {},
   "cell_type": "markdown",
   "metadata": {},
   "source": [
    "$$\\hat{\\theta} = \\frac{1}{n} \\sum_{i=1}^{n} X_i$$"
   ]
  }
 ],
 "metadata": {
  "kernelspec": {
   "display_name": "base",
   "language": "python",
   "name": "python3"
  },
  "language_info": {
   "codemirror_mode": {
    "name": "ipython",
    "version": 3
   },
   "file_extension": ".py",
   "mimetype": "text/x-python",
   "name": "python",
   "nbconvert_exporter": "python",
   "pygments_lexer": "ipython3",
   "version": "3.9.13"
  },
  "orig_nbformat": 4,
  "vscode": {
   "interpreter": {
    "hash": "9215ae2adc863fbfa01f35aa8c5bbdcaf0ec933496d7c67639b3ac803b1c33a2"
   }
  }
 },
 "nbformat": 4,
 "nbformat_minor": 2
}
