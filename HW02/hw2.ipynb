{
 "cells": [
  {
   "attachments": {},
   "cell_type": "markdown",
   "metadata": {},
   "source": [
    "$$\n",
    "I := b - a, \\ \\ \\ \\hat{I_n} := \\max(X_1, \\ldots, X_n) - \\min(X_1, \\ldots, X_n)\n",
    "$$\n",
    "\n",
    "$$ E I_n = E \\left(\\max\\left(X_1, \\ldots, X_n\\right) - \\min\\left(X_1, \\ldots, X_n\\right)\\right) = E \\max(X_1, \\ldots, X_n) - E \\min(X_1, \\ldots, X_n)$$\n",
    "\n",
    "$$ F(\\max(X_1, \\ldots, X_n) < x) = F(X_1 < x, \\ldots, X_n < x) = \\prod_{1}^n F(X_k < x) = \\left(\\frac{x-a}{b-a}\\right)^n \\ I(x \\in [a, b])$$\n",
    "$$ E \\max(X_1, \\ldots, X_n) = \\int_{a}^b x p(\\max(X_1, \\ldots, X_n) < x) dx = \\int_{a}^b x d F(\\max(X_1, \\ldots, X_n) < x) dx = $$\n",
    "$$ = xF_{\\max}(x) \\Big|_a^b - \\int_a^bF_{\\max}(x) dx = b - \\frac{b-a}{n+1}$$"
   ]
  },
  {
   "attachments": {},
   "cell_type": "markdown",
   "metadata": {},
   "source": [
    "$$F(\\min(X_1, \\ldots, X_n) < x) = 1 - F(\\min(X_1, \\ldots, X_n) \\ge x) = 1 - F(X_1 \\ge x, \\ldots, X_n \\ge x) = 1 - \\prod_{1}^n F(X_k \\ge x) = 1 - \\frac{(b-x)^n}{(b-a)^n} \\ I(x \\in [a, b])$$\n",
    "\n",
    "$$ E \\min(X_1, \\ldots, X_n) = \\int_{a}^b x p(\\min(X_1, \\ldots, X_n) < x) dx = \\int_{a}^b x d F(\\min(X_1, \\ldots, X_n) < x) dx = $$\n",
    "$$ = xF_{\\min}(x) \\Big|_a^b - \\int_a^bF_{\\min}(x) dx = a + \\frac{b-a}{n+1}$$\n"
   ]
  },
  {
   "attachments": {},
   "cell_type": "markdown",
   "metadata": {},
   "source": [
    "$$E I_n = b - a - 2\\frac{b-a}{n+1} = \\frac{n-1}{n+1} (b-a)$$\n",
    "$$\\mathrm{bias}\\ I_n = \\frac{n-1}{n+1} (b-a) - (b-a) = -\\frac{2}{n+1} (b-a)$$\n",
    "\n"
   ]
  },
  {
   "attachments": {},
   "cell_type": "markdown",
   "metadata": {},
   "source": [
    "$$I_{nJ} = n I_n - (n-1) I_{n,\\cdot}, \\ \\ \\ \\ I_{n,\\cdot} = \\frac{1}{n}\\sum_1^n I_{n,i}, \\ \\ \\ \\ \n",
    "I_{n,i}= \\max_{1 \\le k \\le n, k \\ne i}(X_k) - \\min_{1 \\le k \\le n, k \\ne i}(X_k)$$"
   ]
  },
  {
   "attachments": {},
   "cell_type": "markdown",
   "metadata": {},
   "source": [
    "$$I_{nJ} = (b-a) \\left( n \\frac{n-1}{n+1} - (n-1) \\frac{1}{n} n \\frac{n-2}{n} \\right) = \\frac{n^2 - n + 2}{n(n+1)}(b-a)$$"
   ]
  },
  {
   "cell_type": "markdown",
   "metadata": {},
   "source": [
    "# task 2"
   ]
  },
  {
   "attachments": {},
   "cell_type": "markdown",
   "metadata": {},
   "source": [
    "Если $K$ ядро степени $2$ и $\\int K^2(u) du < \\infty$\n",
    "\n",
    "Тогда для \n",
    "$$\\forall \\epsilon > 0: \\ \\ \\text{при} \\ \\ h = n^{-1/5} \\epsilon ^{-1} \\int K^2(u) du \\ \\ \\text{выполнено} \\ \\ $$\n",
    "$${\\lim_{n \\to \\infty}\\sup}\\ n^{4/5}\\ \\mathrm{E}_{p}\\int(\\hat{p_{Kn}}(x) - p(x))^2 dx \\le \\epsilon$$"
   ]
  },
  {
   "attachments": {},
   "cell_type": "markdown",
   "metadata": {},
   "source": [
    "Для ядра Epanechnikov у нас есть оценка \n",
    "$${\\lim_{n \\to \\infty}}\\ n^{4/5}\\ \\mathrm{E}_{p}\\int(\\hat{p_{En}}(x) - p(x))^2 dx = \\frac{3^{4/5}}{5^{1/4}4} \\left(\\int (p''(x))^2 dx\\right)^{1/5}$$"
   ]
  },
  {
   "attachments": {},
   "cell_type": "markdown",
   "metadata": {},
   "source": [
    "Подберем $\\epsilon$, такое, что $\\epsilon < \\frac{3^{4/5}}{5^{1/4}4} \\left(\\int (p''(x))^2 dx\\right)^{1/5} $, потом для нвыбранного $\\epsilon$ рассчитаем $h$"
   ]
  },
  {
   "attachments": {},
   "cell_type": "markdown",
   "metadata": {},
   "source": [
    "$$p(x) = \\frac{4^3}{\\Gamma(3)} x^2 e^{-4x}, \\ \\ \\ \\ p(x)'' = \\frac{4^3}{\\Gamma(3)} 2 e^{-4x}\\left(8 x^2 - 8x + 1\\right)$$\n",
    "$$\\int_0^{\\infty} \\left(\\frac{4^3}{\\Gamma(3)} 2 e^{-4x}\\left(8 x^2 - 8x + 1\\right)\\right)^2 dx = \\frac{4^4}{\\Gamma(3)^2} 3 = 192$$\n",
    "\n",
    "$$\\epsilon \\le 192^{1/5} \\frac{3^{4/5}}{5^{1/4}4}$$\n",
    "Возьмём $\\epsilon = 1$ и посчитаем $h$\n"
   ]
  },
  {
   "attachments": {},
   "cell_type": "markdown",
   "metadata": {},
   "source": [
    "$$K(u) = \\frac{1}{2} - \\frac{5}{8}\\left(3u^2 -1\\right)$$\n",
    "$$\\int_{-1}^{1} K^2(u) du = \\int_{-1}^{1}\\left(\\frac{1}{2} - \\frac{5}{8}\\left(3u^2 -1\\right)\\right)^2 du = \\frac{9}{8}$$\n"
   ]
  },
  {
   "attachments": {},
   "cell_type": "markdown",
   "metadata": {},
   "source": [
    "$$h = \\frac{9}{8} n^{-1/5}$$"
   ]
  },
  {
   "attachments": {},
   "cell_type": "markdown",
   "metadata": {},
   "source": [
    "$$L(\\theta; x) = \\prod_1^n\\left(\\pi p_{\\mu_1, \\sigma_1} (x) + (1-\\pi) p_{\\mu_2, \\sigma_2} (x)\\right)$$\n",
    "$$L(\\theta; x, y) = \\prod_1^n\\left(\\pi p_{\\mu_1, \\sigma_1} (x)\\right)^{I(y_i = 1)}\\left((1-\\pi) p_{\\mu_2, \\sigma_2} (x)\\right)^{I(y_i = 2)}$$"
   ]
  },
  {
   "attachments": {},
   "cell_type": "markdown",
   "metadata": {},
   "source": [
    "$$L(\\theta; x, y) = \\exp\\left\\{\\sum_{i=1}^n \\sum_{j=1}^2 I(y_i = j)\\left(\\log \\pi_j - \\frac{1}{2}\\log \\sigma_j - \\frac{1}{2}(x_i - \\mu_j)^2\\sigma_j - \\frac{1}{2}\\log(2 \\Pi)\\right) \\right\\}$$"
   ]
  },
  {
   "attachments": {},
   "cell_type": "markdown",
   "metadata": {},
   "source": [
    "$$e_i = \\hat{e_{i,1}} = \\frac{\\hat{\\pi}f_{(\\hat{\\mu_1}, \\hat{\\sigma_1})(x_i)}}{\\hat{\\pi}f_{(\\hat{\\mu_1}, \\hat{\\sigma_1})(x_i)} + (1-\\hat{\\pi})f_{(\\hat{\\mu_2}, \\hat{\\sigma_2})(x_i)}}$$\n",
    "\n",
    "$$\\hat{e_{i,2}} = 1 - \\hat{e_{i,1}}$$"
   ]
  },
  {
   "attachments": {},
   "cell_type": "markdown",
   "metadata": {},
   "source": [
    "$\\hat{\\pi} := \\mathrm{argmax}\\Big\\{ \\left(\\sum_{i=1}^{n} e_i\\right)\\pi + \\left(\\sum_{i=1}^{n} \\left(1-e_i\\right)\\right)(1-\\pi)\\Big\\}$"
   ]
  },
  {
   "attachments": {},
   "cell_type": "markdown",
   "metadata": {},
   "source": [
    "$\\hat{\\pi} := \\frac{1}{n}\\sum_{i=1}^{n} e_i$"
   ]
  },
  {
   "attachments": {},
   "cell_type": "markdown",
   "metadata": {},
   "source": [
    "$$\\hat{\\mu_1} := \\frac{\\sum_1^n e_i x_i}{\\sum_1^n e_i}$$\n",
    "$$\\hat{\\sigma_1} := \\frac{\\sum_1^n e_i (x_i - \\mu_1)^2}{\\sum_1^n e_i}$$\n",
    "\n",
    "$$\\hat{\\mu_2} := \\frac{\\sum_1^n (1-e_i) x_i}{\\sum_1^n (1-e_i)}$$\n",
    "$$\\hat{\\sigma_2} := \\frac{\\sum_1^n (1-e_i) (x_i - \\mu_2)^2}{\\sum_1^n (1-e_i)}$$"
   ]
  }
 ],
 "metadata": {
  "language_info": {
   "name": "python"
  },
  "orig_nbformat": 4
 },
 "nbformat": 4,
 "nbformat_minor": 2
}
