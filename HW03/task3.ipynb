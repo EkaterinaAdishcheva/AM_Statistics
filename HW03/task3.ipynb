{
 "cells": [
  {
   "attachments": {},
   "cell_type": "markdown",
   "metadata": {},
   "source": [
    "# Task 1\n",
    "\n",
    "$$X_1, X_2, \\ldots, X_n \\sim \\mathrm{U}(\\theta, \\theta + 1)$$\n",
    "$$H_0: \\theta = 0$$\n",
    "$$H_1: \\theta = \\theta_1 > 0$$\n",
    "\n",
    "$d^{*}$ равномерно наиболее мощный рандомизированный тест для $\\theta_1 \\in (0, 1-\\alpha^{1/n})$"
   ]
  },
  {
   "cell_type": "markdown",
   "metadata": {},
   "source": []
  }
 ],
 "metadata": {
  "language_info": {
   "name": "python"
  },
  "orig_nbformat": 4
 },
 "nbformat": 4,
 "nbformat_minor": 2
}
